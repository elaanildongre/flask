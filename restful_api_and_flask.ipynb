{
  "cells": [
    {
      "cell_type": "markdown",
      "metadata": {
        "id": "6PkvFgbCq419"
      },
      "source": [
        "1. What is a RESTful API?"
      ]
    },
    {
      "cell_type": "markdown",
      "metadata": {
        "id": "t5hW2r9jtaFj"
      },
      "source": [
        "An architectural style that uses standard HTTP methods (GET, POST, PUT, DELETE) to acesses and manipulate  web services\n"
      ]
    },
    {
      "cell_type": "markdown",
      "metadata": {
        "id": "2p2YNfWKq4yW"
      },
      "source": [
        "2. Explain the concept of API specification?\n"
      ]
    },
    {
      "cell_type": "markdown",
      "metadata": {
        "id": "g5ZMqucZtakt"
      },
      "source": [
        "It defines how clients should interact with the api, including endpoints, request formats, parameters, authentication, and error codes."
      ]
    },
    {
      "cell_type": "markdown",
      "metadata": {
        "id": "Fb1k4WXxq4v6"
      },
      "source": [
        "3. What is Flask, and why is it popular for building APIs?\n"
      ]
    },
    {
      "cell_type": "markdown",
      "metadata": {
        "id": "SzabnsfQtbLg"
      },
      "source": [
        "Flask is a lightweight, flexible Python microframework for building web applications.\n",
        "\n",
        "It's known for its simplicity, ease of use, and ability to be extended with various libraries and tools.\n"
      ]
    },
    {
      "cell_type": "markdown",
      "metadata": {
        "id": "yiNhoMg7q4t5"
      },
      "source": [
        "4. What is routing in Flask?\n"
      ]
    },
    {
      "cell_type": "markdown",
      "metadata": {
        "id": "O2iCqzQitb0A"
      },
      "source": [
        "routing is the mechanism of mapping URLs to pyhton functions using decorators like @app.route('/')"
      ]
    },
    {
      "cell_type": "markdown",
      "metadata": {
        "id": "rOEyCcvhq4ri"
      },
      "source": [
        "5. How do you create a simple Flask application?\n"
      ]
    },
    {
      "cell_type": "markdown",
      "source": [
        "from flask import Flask\n",
        "\n",
        "app = Flask(__name__)\n",
        "\n",
        "\n",
        "@app.route('/')\n",
        "\n",
        "def home():\n",
        "\n",
        "  return \"hello world!\"\n",
        "\n",
        "\n",
        "if __name__ == '__main__':\n",
        "\n",
        "  app.run(debug= True)"
      ],
      "metadata": {
        "id": "h-rQ5ThiHLtM"
      }
    },
    {
      "cell_type": "markdown",
      "metadata": {
        "id": "fgXF2D3ztcgo"
      },
      "source": []
    },
    {
      "cell_type": "markdown",
      "metadata": {
        "id": "3xpLzz0lq4pv"
      },
      "source": [
        "6. What are HTTP methods used in RESTful APIs?\n"
      ]
    },
    {
      "cell_type": "markdown",
      "metadata": {
        "id": "SVM87ylXtdS-"
      },
      "source": [
        "POST: Creates a new resource\n",
        "\n",
        "GET: Retrieves a resource or collection of resources\n",
        "\n",
        "PUT: Updates an existing resource\n",
        "\n",
        "DELETE: Remove a resource\n"
      ]
    },
    {
      "cell_type": "markdown",
      "metadata": {
        "id": "RVB7jOoSq4l1"
      },
      "source": [
        "7. What is the purpose of the @app.route() decorator in Flask?\n"
      ]
    },
    {
      "cell_type": "markdown",
      "metadata": {
        "id": "iM5Fpsn4td1a"
      },
      "source": [
        "It binds the URL path to a view function , defining how the app should respond to HTTP requests at that path."
      ]
    },
    {
      "cell_type": "markdown",
      "metadata": {
        "id": "hVW-r7_Xq4jZ"
      },
      "source": [
        "8. What is the difference between GET and POST HTTP methods?\n"
      ]
    },
    {
      "cell_type": "markdown",
      "metadata": {
        "id": "Szh7DMd3tevK"
      },
      "source": [
        "POST: Creates a new resource\n",
        "\n",
        "GET: Retrieves a resource or collection of resources"
      ]
    },
    {
      "cell_type": "markdown",
      "metadata": {
        "id": "abIHvqr5q4gs"
      },
      "source": [
        "9. How do you handle errors in Flask APIs?\n"
      ]
    },
    {
      "cell_type": "markdown",
      "metadata": {
        "id": "myIe3482tfcN"
      },
      "source": [
        "usig @app.errorhanlde or with return custom JSON"
      ]
    },
    {
      "cell_type": "markdown",
      "metadata": {
        "id": "dgcrGKMIq4ea"
      },
      "source": [
        "10.How do you connect Flask to a SQL database?\n"
      ]
    },
    {
      "cell_type": "markdown",
      "metadata": {
        "id": "L860BPygtf4n"
      },
      "source": [
        "using libraries like SQLAlchemy\n"
      ]
    },
    {
      "cell_type": "markdown",
      "metadata": {
        "id": "4BgStyMirYAf"
      },
      "source": [
        "11. What is the role of Flask-SQLAlchemy?\n"
      ]
    },
    {
      "cell_type": "markdown",
      "metadata": {
        "id": "iz8MJ6NTtggY"
      },
      "source": [
        "it simplifies the database interactions and allows object-relational mapping."
      ]
    },
    {
      "cell_type": "markdown",
      "metadata": {
        "id": "JaFGToBurX86"
      },
      "source": [
        "12. What are Flask blueprints, and how are they useful?\n"
      ]
    },
    {
      "cell_type": "markdown",
      "metadata": {
        "id": "vaZ9NXqithN8"
      },
      "source": [
        "blueprinnts let you oragnise your app into modules, improving code structures and reusability in large applications ."
      ]
    },
    {
      "cell_type": "markdown",
      "metadata": {
        "id": "gQ1JmpjkrX65"
      },
      "source": [
        "13. What is the purpose of Flask's request object?\n"
      ]
    },
    {
      "cell_type": "markdown",
      "metadata": {
        "id": "8sLTNYTnthzx"
      },
      "source": [
        "it provides access to incoming request data such as form inputs, JSON body, headers, etc"
      ]
    },
    {
      "cell_type": "markdown",
      "metadata": {
        "id": "JOkGPxe0rX4U"
      },
      "source": [
        "14. How do you create a RESTful API endpoint using Flask?\n"
      ]
    },
    {
      "cell_type": "code",
      "execution_count": null,
      "metadata": {
        "id": "Nm0kYrpmzEqc"
      },
      "outputs": [],
      "source": [
        "#@app.route('/api/data', methods=['GET'])\n",
        "#def get_data():\n",
        " # return jsonify({'data': \"value\"})"
      ]
    },
    {
      "cell_type": "markdown",
      "metadata": {
        "id": "4zg2BmF7ze0r"
      },
      "source": [
        "@app.route('/api/data', methods=['GET'])\n",
        "\n",
        "def get_data():\n",
        "\n",
        "  return jsonify({'data': \"value\"})"
      ]
    },
    {
      "cell_type": "markdown",
      "metadata": {
        "id": "h_eElxRNrX13"
      },
      "source": [
        "15. What is the purpose of Flask's jsonify() function?\n"
      ]
    },
    {
      "cell_type": "markdown",
      "metadata": {
        "id": "-4fJIDfkti-O"
      },
      "source": [
        "it converts Pyhton dictionaries into JSON responses and sets proper headers."
      ]
    },
    {
      "cell_type": "markdown",
      "metadata": {
        "id": "pEFF8e5arXzE"
      },
      "source": [
        "16. Explain Flask’s url_for() function?\n"
      ]
    },
    {
      "cell_type": "markdown",
      "metadata": {
        "id": "8ajw7hZGtjvJ"
      },
      "source": [
        "it generates URLs for Flask views dynamically"
      ]
    },
    {
      "cell_type": "markdown",
      "metadata": {
        "id": "gPGWzlY4rXwS"
      },
      "source": [
        "17. How does Flask handle static files (CSS, JavaScript, etc.)?\n"
      ]
    },
    {
      "cell_type": "markdown",
      "metadata": {
        "id": "WbxHcSCDtkUw"
      },
      "source": [
        "it palce them  in a static folder. Access via/static/filename"
      ]
    },
    {
      "cell_type": "markdown",
      "metadata": {
        "id": "aVxo0fROrXtg"
      },
      "source": [
        "18. What is an API specification, and how does it help in building a Flask API?\n"
      ]
    },
    {
      "cell_type": "markdown",
      "metadata": {
        "id": "kSNL1MK-tk4V"
      },
      "source": [
        "it act as a contract for API functionality, helping with documentation, testing and consistency."
      ]
    },
    {
      "cell_type": "markdown",
      "metadata": {
        "id": "kh27rxT5rXq8"
      },
      "source": [
        "19. What are HTTP status codes, and why are they important in a Flask API?\n"
      ]
    },
    {
      "cell_type": "markdown",
      "metadata": {
        "id": "1-n0MJ2BtllV"
      },
      "source": [
        "They indicates the result of HTTP requests. It helps the clients to understand success or faliure of options."
      ]
    },
    {
      "cell_type": "markdown",
      "metadata": {
        "id": "BGgDxv0arXoS"
      },
      "source": [
        "20.How do you handle POST requests in Flask?\n"
      ]
    },
    {
      "cell_type": "markdown",
      "metadata": {
        "id": "eMQLaFXytmkP"
      },
      "source": [
        "@app.route('/submit', methods =['POST'])\n",
        "def submit():\n",
        "     data = request.get_json()\n",
        "     return josnify(data),201"
      ]
    },
    {
      "cell_type": "markdown",
      "metadata": {
        "id": "h9l-HTNurXlx"
      },
      "source": [
        "21. How would you secure a Flask API?"
      ]
    },
    {
      "cell_type": "markdown",
      "metadata": {
        "id": "ROQnYO4QtnE2"
      },
      "source": [
        "> use HHTPS\n",
        "\n",
        "> implement authentication\n",
        "\n",
        "> validate inputs\n",
        "\n",
        ">Rate limiting\n",
        "\n",
        ">CROS headers"
      ]
    },
    {
      "cell_type": "markdown",
      "metadata": {
        "id": "C2k7LH7CrXjC"
      },
      "source": [
        "22. What is the significance of the Flask-RESTful extension?"
      ]
    },
    {
      "cell_type": "markdown",
      "metadata": {
        "id": "rlVsXyOMtnlt"
      },
      "source": [
        "It simplifies the API development with class-based views, input parising and error handling"
      ]
    },
    {
      "cell_type": "markdown",
      "metadata": {
        "id": "WQtNvG2qrXgN"
      },
      "source": [
        "23. What is the role of Flask’s session object?"
      ]
    },
    {
      "cell_type": "markdown",
      "metadata": {
        "id": "VRpiDMPutomQ"
      },
      "source": [
        "It stores data across requests using secure cookies."
      ]
    },
    {
      "cell_type": "markdown",
      "metadata": {
        "id": "2eKpV0eUrXdc"
      },
      "source": [
        "PRACTICAL"
      ]
    },
    {
      "cell_type": "markdown",
      "metadata": {
        "id": "nK7tqFsarXax"
      },
      "source": [
        "1. How do you create a basic Flask application?\n"
      ]
    },
    {
      "cell_type": "code",
      "source": [
        "pip install flask-ngrok"
      ],
      "metadata": {
        "colab": {
          "base_uri": "https://localhost:8080/"
        },
        "id": "ncedWpFhyKZL",
        "outputId": "4f9b018b-d504-4f8d-b66c-388b46caf9ff"
      },
      "execution_count": 8,
      "outputs": [
        {
          "output_type": "stream",
          "name": "stdout",
          "text": [
            "Requirement already satisfied: flask-ngrok in /usr/local/lib/python3.11/dist-packages (0.0.25)\n",
            "Requirement already satisfied: Flask>=0.8 in /usr/local/lib/python3.11/dist-packages (from flask-ngrok) (3.1.1)\n",
            "Requirement already satisfied: requests in /usr/local/lib/python3.11/dist-packages (from flask-ngrok) (2.32.3)\n",
            "Requirement already satisfied: blinker>=1.9.0 in /usr/local/lib/python3.11/dist-packages (from Flask>=0.8->flask-ngrok) (1.9.0)\n",
            "Requirement already satisfied: click>=8.1.3 in /usr/local/lib/python3.11/dist-packages (from Flask>=0.8->flask-ngrok) (8.2.1)\n",
            "Requirement already satisfied: itsdangerous>=2.2.0 in /usr/local/lib/python3.11/dist-packages (from Flask>=0.8->flask-ngrok) (2.2.0)\n",
            "Requirement already satisfied: jinja2>=3.1.2 in /usr/local/lib/python3.11/dist-packages (from Flask>=0.8->flask-ngrok) (3.1.6)\n",
            "Requirement already satisfied: markupsafe>=2.1.1 in /usr/local/lib/python3.11/dist-packages (from Flask>=0.8->flask-ngrok) (3.0.2)\n",
            "Requirement already satisfied: werkzeug>=3.1.0 in /usr/local/lib/python3.11/dist-packages (from Flask>=0.8->flask-ngrok) (3.1.3)\n",
            "Requirement already satisfied: charset-normalizer<4,>=2 in /usr/local/lib/python3.11/dist-packages (from requests->flask-ngrok) (3.4.2)\n",
            "Requirement already satisfied: idna<4,>=2.5 in /usr/local/lib/python3.11/dist-packages (from requests->flask-ngrok) (3.10)\n",
            "Requirement already satisfied: urllib3<3,>=1.21.1 in /usr/local/lib/python3.11/dist-packages (from requests->flask-ngrok) (2.4.0)\n",
            "Requirement already satisfied: certifi>=2017.4.17 in /usr/local/lib/python3.11/dist-packages (from requests->flask-ngrok) (2025.6.15)\n"
          ]
        }
      ]
    },
    {
      "cell_type": "code",
      "execution_count": 10,
      "metadata": {
        "id": "Usm3K4qIqsf4",
        "colab": {
          "base_uri": "https://localhost:8080/"
        },
        "outputId": "8fc4afd5-09df-4159-be3e-b06c6e4a224c"
      },
      "outputs": [
        {
          "output_type": "stream",
          "name": "stdout",
          "text": [
            " * Serving Flask app '__main__'\n",
            " * Debug mode: on\n"
          ]
        },
        {
          "output_type": "stream",
          "name": "stderr",
          "text": [
            "INFO:werkzeug:\u001b[31m\u001b[1mWARNING: This is a development server. Do not use it in a production deployment. Use a production WSGI server instead.\u001b[0m\n",
            " * Running on http://127.0.0.1:5000\n",
            "INFO:werkzeug:\u001b[33mPress CTRL+C to quit\u001b[0m\n",
            "INFO:werkzeug: * Restarting with stat\n"
          ]
        }
      ],
      "source": [
        "from flask import Flask\n",
        "from flask_ngrok import run_with_ngrok\n",
        "app = Flask(__name__)\n",
        "\n",
        "@app.route('/')\n",
        "def home():\n",
        "  return \"Welcome\"\n",
        "\n",
        "if __name__ == '__main__':\n",
        "  app.run(debug=True)"
      ]
    },
    {
      "cell_type": "markdown",
      "source": [
        "3. How do you define different routes with different HTTP methods in Flask?\n"
      ],
      "metadata": {
        "id": "8VSsL067Fk7D"
      }
    },
    {
      "cell_type": "code",
      "execution_count": 3,
      "metadata": {
        "id": "0jKhHgwwqsaI"
      },
      "outputs": [],
      "source": [
        "@app.route('/submit', methods = ['GET', 'POST'])\n",
        "def submit():\n",
        "  if request.method =='POST':\n",
        "    return \"form submitted\"\n",
        "  return \"form page\""
      ]
    },
    {
      "cell_type": "markdown",
      "source": [
        "4. How do you render HTML templates in Flask?\n"
      ],
      "metadata": {
        "id": "STj4KxJgFoe7"
      }
    },
    {
      "cell_type": "code",
      "execution_count": 4,
      "metadata": {
        "id": "PA_9UTreqsXo"
      },
      "outputs": [],
      "source": [
        "@app.route('/hello')\n",
        "def hello():\n",
        "  return render_template(hello.html)"
      ]
    },
    {
      "cell_type": "markdown",
      "source": [
        "5. How can you generate URLs for routes in Flask using url_for?\n"
      ],
      "metadata": {
        "id": "6xm3ll22FrRM"
      }
    },
    {
      "cell_type": "code",
      "execution_count": 5,
      "metadata": {
        "id": "7M9GzJBOqsU8"
      },
      "outputs": [],
      "source": [
        "from flask import url_for\n",
        "\n",
        "@app.route('/about')\n",
        "def about():\n",
        "  return \"about page\"\n",
        "@app.route('/')\n",
        "def index():\n",
        "  return redirect(url_for('about'))"
      ]
    },
    {
      "cell_type": "markdown",
      "source": [
        "6. How do you handle forms in Flask?\n"
      ],
      "metadata": {
        "id": "FeLBs2Y0FuCK"
      }
    },
    {
      "cell_type": "code",
      "execution_count": 6,
      "metadata": {
        "id": "b5uGh8ggqsSf"
      },
      "outputs": [],
      "source": [
        "from flask import request\n",
        "\n",
        "@app.route('/form', methods=['GET', 'POST'])\n",
        "def form():\n",
        "  if request.method =='POST':\n",
        "    name = request.form['name']\n",
        "    return f\"Hello {name}\"\n",
        "  return \"\"\" <form method =\"post\">\n",
        "              name : <input type = 'text', name ='name'>\n",
        "              <input type = \"submit\"></form>\"\"\""
      ]
    },
    {
      "cell_type": "markdown",
      "source": [
        "7. How can you validate form data in Flask?\n"
      ],
      "metadata": {
        "id": "P2fqqPfhFw96"
      }
    },
    {
      "cell_type": "code",
      "execution_count": 7,
      "metadata": {
        "id": "TR2bi2EUqsQF"
      },
      "outputs": [],
      "source": [
        "@app.route('/validate', methods = ['POST'])\n",
        "def validate():\n",
        "  name = request.form.get('name')\n",
        "  if not name:\n",
        "    return \"name is required\"\n",
        "  return f\"Welcome, {name}\""
      ]
    },
    {
      "cell_type": "markdown",
      "source": [
        "8. How do you manage sessions in Flask?\n"
      ],
      "metadata": {
        "id": "7H1p-NAxF1Ll"
      }
    },
    {
      "cell_type": "code",
      "source": [
        "pip install flask-ngrok"
      ],
      "metadata": {
        "colab": {
          "base_uri": "https://localhost:8080/"
        },
        "id": "M87kzW0jx-li",
        "outputId": "a4f1420c-90f8-485c-e2d5-faa52dcb6a8c"
      },
      "execution_count": 5,
      "outputs": [
        {
          "output_type": "stream",
          "name": "stdout",
          "text": [
            "Collecting flask-ngrok\n",
            "  Downloading flask_ngrok-0.0.25-py3-none-any.whl.metadata (1.8 kB)\n",
            "Requirement already satisfied: Flask>=0.8 in /usr/local/lib/python3.11/dist-packages (from flask-ngrok) (3.1.1)\n",
            "Requirement already satisfied: requests in /usr/local/lib/python3.11/dist-packages (from flask-ngrok) (2.32.3)\n",
            "Requirement already satisfied: blinker>=1.9.0 in /usr/local/lib/python3.11/dist-packages (from Flask>=0.8->flask-ngrok) (1.9.0)\n",
            "Requirement already satisfied: click>=8.1.3 in /usr/local/lib/python3.11/dist-packages (from Flask>=0.8->flask-ngrok) (8.2.1)\n",
            "Requirement already satisfied: itsdangerous>=2.2.0 in /usr/local/lib/python3.11/dist-packages (from Flask>=0.8->flask-ngrok) (2.2.0)\n",
            "Requirement already satisfied: jinja2>=3.1.2 in /usr/local/lib/python3.11/dist-packages (from Flask>=0.8->flask-ngrok) (3.1.6)\n",
            "Requirement already satisfied: markupsafe>=2.1.1 in /usr/local/lib/python3.11/dist-packages (from Flask>=0.8->flask-ngrok) (3.0.2)\n",
            "Requirement already satisfied: werkzeug>=3.1.0 in /usr/local/lib/python3.11/dist-packages (from Flask>=0.8->flask-ngrok) (3.1.3)\n",
            "Requirement already satisfied: charset-normalizer<4,>=2 in /usr/local/lib/python3.11/dist-packages (from requests->flask-ngrok) (3.4.2)\n",
            "Requirement already satisfied: idna<4,>=2.5 in /usr/local/lib/python3.11/dist-packages (from requests->flask-ngrok) (3.10)\n",
            "Requirement already satisfied: urllib3<3,>=1.21.1 in /usr/local/lib/python3.11/dist-packages (from requests->flask-ngrok) (2.4.0)\n",
            "Requirement already satisfied: certifi>=2017.4.17 in /usr/local/lib/python3.11/dist-packages (from requests->flask-ngrok) (2025.6.15)\n",
            "Downloading flask_ngrok-0.0.25-py3-none-any.whl (3.1 kB)\n",
            "Installing collected packages: flask-ngrok\n",
            "Successfully installed flask-ngrok-0.0.25\n"
          ]
        }
      ]
    },
    {
      "cell_type": "code",
      "execution_count": 7,
      "metadata": {
        "id": "KL9qOSN_qku-"
      },
      "outputs": [],
      "source": [
        "from flask import Flask, sessions\n",
        "from flask_ngrok import run_with_ngrok\n",
        "\n",
        "app = Flask(__name__)\n",
        "app.secret_key = \"secret\"\n",
        "run_with_ngrok(app)\n",
        "\n",
        "\n",
        "\n",
        "@app.route('/login')\n",
        "def login_user():\n",
        "  session['user'] = 'deepa'\n",
        "  return \"logged in\"\n",
        "@app.route('/profile')\n",
        "def profile():\n",
        "  return f\"Logged in as {session.get('user')}\""
      ]
    },
    {
      "cell_type": "markdown",
      "source": [
        "9. How do you redirect to a different route in Flask?\n"
      ],
      "metadata": {
        "id": "PqXXZZkvF1pT"
      }
    },
    {
      "cell_type": "code",
      "source": [
        "from flask import redirect\n",
        "@app.route('/go-home')\n",
        "def go_home():\n",
        "  return redirect(url_for('home'))"
      ],
      "metadata": {
        "id": "nTo41MOVF8t8"
      },
      "execution_count": null,
      "outputs": []
    },
    {
      "cell_type": "markdown",
      "source": [
        "10. How do you handle errors in Flask (e.g., 404)?\n"
      ],
      "metadata": {
        "id": "wiSNCiTsF9pT"
      }
    },
    {
      "cell_type": "code",
      "source": [
        "from flask import Flask, render_template\n",
        "\n",
        "app = Flask(__name__)\n",
        "\n",
        "\n",
        "\n",
        "\n",
        "@app.errorhandler(404)\n",
        "def page_not_found(e):\n",
        "  return \"Page Not Found\", 404\n",
        "\n",
        "@app.route('/')\n",
        "def index():\n",
        "  return \"Hello\"\n",
        "\n",
        "if __name__ == '__main__':\n",
        "  app.run(debug =True)"
      ],
      "metadata": {
        "colab": {
          "base_uri": "https://localhost:8080/"
        },
        "id": "5jhq5omqF__S",
        "outputId": "d0af9421-6e39-4de2-e0dd-7c21967a396a"
      },
      "execution_count": 14,
      "outputs": [
        {
          "output_type": "stream",
          "name": "stdout",
          "text": [
            " * Serving Flask app '__main__'\n",
            " * Debug mode: on\n"
          ]
        },
        {
          "output_type": "stream",
          "name": "stderr",
          "text": [
            "INFO:werkzeug:\u001b[31m\u001b[1mWARNING: This is a development server. Do not use it in a production deployment. Use a production WSGI server instead.\u001b[0m\n",
            " * Running on http://127.0.0.1:5000\n",
            "INFO:werkzeug:\u001b[33mPress CTRL+C to quit\u001b[0m\n",
            "INFO:werkzeug: * Restarting with stat\n"
          ]
        }
      ]
    },
    {
      "cell_type": "markdown",
      "source": [
        "11. How do you structure a Flask app using Blueprints?\n"
      ],
      "metadata": {
        "id": "0n-FETzbGAtU"
      }
    },
    {
      "cell_type": "code",
      "source": [
        "@app.template_filter('capitalize')\n",
        "def capitalize_filter(s):\n",
        "  return s.capitalize()\n",
        "\n",
        "{{'hello'| capitalize}}"
      ],
      "metadata": {
        "id": "sqgmpi9BGGvI"
      },
      "execution_count": null,
      "outputs": []
    },
    {
      "cell_type": "markdown",
      "source": [
        "13. How can you redirect with query parameters in Flask?\n"
      ],
      "metadata": {
        "id": "ndW-3hbtGHWj"
      }
    },
    {
      "cell_type": "code",
      "source": [
        "@app.route('/search')\n",
        "def search():\n",
        "  return redirect(url_for('results', q ='flask'))\n",
        "\n",
        "@app.route('/results')\n",
        "def results():\n",
        "  query = request.orgs.get('q')\n",
        "  return f'Search Results for: {query}'"
      ],
      "metadata": {
        "id": "AvYobAO-GJuB"
      },
      "execution_count": null,
      "outputs": []
    },
    {
      "cell_type": "markdown",
      "source": [
        "14. How do you return JSON responses in Flask?\n"
      ],
      "metadata": {
        "id": "1QaojWhuGKem"
      }
    },
    {
      "cell_type": "code",
      "source": [
        "from flask import jsonify\n",
        "\n",
        "@app.route('/api/data')\n",
        "def api_data():\n",
        "  return jsonify({\"name\": \"Flask\", \"version\": \"2.0\"})"
      ],
      "metadata": {
        "id": "Fh1Wu74dGMYG"
      },
      "execution_count": null,
      "outputs": []
    },
    {
      "cell_type": "markdown",
      "source": [
        "15. How do you capture URL parameters in Flask?\n"
      ],
      "metadata": {
        "id": "0_LI3th4GM16"
      }
    },
    {
      "cell_type": "code",
      "source": [
        "@app.route('/user/<username>')\n",
        "def show_user(username):\n",
        "  return f\"user: {username}\""
      ],
      "metadata": {
        "id": "GPziayJ_GPW-"
      },
      "execution_count": null,
      "outputs": []
    },
    {
      "cell_type": "code",
      "source": [],
      "metadata": {
        "id": "26eIS_Qle1ze"
      },
      "execution_count": null,
      "outputs": []
    }
  ],
  "metadata": {
    "colab": {
      "provenance": []
    },
    "kernelspec": {
      "display_name": "Python 3",
      "name": "python3"
    },
    "language_info": {
      "name": "python"
    }
  },
  "nbformat": 4,
  "nbformat_minor": 0
}